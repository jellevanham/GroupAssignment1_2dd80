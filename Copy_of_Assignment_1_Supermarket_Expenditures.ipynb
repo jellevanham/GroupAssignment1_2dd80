{
  "nbformat": 4,
  "nbformat_minor": 0,
  "metadata": {
    "kernelspec": {
      "display_name": "Python 3",
      "language": "python",
      "name": "python3"
    },
    "language_info": {
      "codemirror_mode": {
        "name": "ipython",
        "version": 3
      },
      "file_extension": ".py",
      "mimetype": "text/x-python",
      "name": "python",
      "nbconvert_exporter": "python",
      "pygments_lexer": "ipython3",
      "version": "3.7.3"
    },
    "colab": {
      "name": "Copy of Assignment 1 - Supermarket Expenditures.ipynb",
      "provenance": [],
      "collapsed_sections": [],
      "toc_visible": true,
      "include_colab_link": true
    }
  },
  "cells": [
    {
      "cell_type": "markdown",
      "metadata": {
        "id": "view-in-github",
        "colab_type": "text"
      },
      "source": [
        "<a href=\"https://colab.research.google.com/github/jellevanham/GroupAssignment1_2dd80/blob/main/Copy_of_Assignment_1_Supermarket_Expenditures.ipynb\" target=\"_parent\"><img src=\"https://colab.research.google.com/assets/colab-badge.svg\" alt=\"Open In Colab\"/></a>"
      ]
    },
    {
      "cell_type": "markdown",
      "metadata": {
        "id": "h-we69W5vIfi"
      },
      "source": [
        "# Statistics for IE - Assignment 1\n",
        "\n",
        "\n",
        "In this assignment, you will work with data on the expenditures of American households on 18 categories of supermarket goods. In **Part A**, you will apply the concepts you have learned in Chapter 6. You will first explore the data, by making beautiful plots and computing numerical summary statistics. In **Part B**, you will apply the concepts you have learned in Chapter 10 to compare the average expenditures across different categories or between different groups in the household sample. \n",
        "\n",
        "You can choose to focus your analyses on one of the following challenges. So the first thing you need to do as a team is to determine which challenge to work on. Then, you work on that one challenge for entire assignment (i.e. both **Part A** and **Part B**). \n",
        "- **Challenge 1:** Eating healthy has undeniable benefits to individuals and society as it reduces the risk of illness and improves feelings of well-being. What do the data tell about healthy consumption patterns? Questions can include, but are not limited to: Are expenditures in healthy and unhealthy categories correlated? Are there differences in expenditures on healthy consumption categories between family types? \n",
        "- **Challenge 2:** On November 7th 2020, US president-elect Joe Biden emphasized the importance of ''the battle to achieve racial justice and root out systemic racism in this country''. As consumption is driven by income, and income by opportunity, we would expect similar consumption patterns across races in a society without systemic racism. What do the data tell about spending patterns across racial groups? Questions can include, but are not limited to: In which categories do we see differences in expenditure levels between the racial groups? Are the correlations between the expenditures in the categories different between racial groups? \n",
        "- **Challenge 3:** The adverse effects of heavy smoking and alcohol consumption are well-known. What do the data tell us about expenditures on smoking an alcohol? Questions can include, but are not limited to: Are expenditures on smoking and alcohol correlated with each other, or with spending in other categories? Are the spending patterns on smoking and alcohol different in urban compared to rural areas?\n",
        "- **Open Challenge:** Did you think of another interesting challenge to work on with this data set? You can define your own challenge. You first discuss it with your instructor in the Assignment Q&A session. If the instructor agrees, you're all set to start working on your own challenge.  \n"
      ]
    },
    {
      "cell_type": "markdown",
      "metadata": {
        "id": "exDDi9VYvIfj"
      },
      "source": [
        "\n",
        "## The Data\n",
        "\n",
        "The U.S. Bureau of Labor Statistics collects extensive data on the expenditures of American consumers. In the **Consumer Expenditure Surveys** (see https://www.bls.gov/cex/home.htm), American households are systematically surveyed on their expenditures. In this assignment, we work with a subset of the 2019 expenditure data, focusing on the supermarket expenditures. Particularly, the data contain supermarket expenditures of American households for one week in January 2019. All these households reported how much they have spent on the following categories in that week: \n",
        "1. CEREAL: Breakfast cereals\n",
        "2. BAKEPROD: Bakery products such as bread and toast\n",
        "3. MEATS: All meats and fish\n",
        "4. DAIRY: Milk, yoghurts, eggs, etc.\n",
        "5. FRSHFRUT: Fresh fruits\n",
        "6. FRSHVEG: Fresh vegetables\n",
        "7. PROCFRUT: Produced fruits (e.g. frozen or canned)\n",
        "8. PROCVEG: Produced vegetables (e.g. frozen or canned)\n",
        "9. SWEETS: Includes chocolates, candy, cookies, ice cream, etc.\n",
        "10. NONALBEV: Non-alcoholic beverages\n",
        "11. OILS: All oils such as baking or salad oil\n",
        "12. MISCFOOD: All other food items such as frozen pizzas and spices\n",
        "13. ALCBEV: Alcoholic beverages\n",
        "14. SMOKSUPP: Smoking supplies (cigarettes, tobacco, etc.)\n",
        "15. PET_FOOD: Pet food\n",
        "16. PERSPROD: Personal care products such as soap, shampoo, face lotion\n",
        "17. DRUGSUPP: Non-prescription drugs and vitamins\n",
        "18. HOUSKEEP: Housekeeping items such as cleaning detergent\n",
        "\n",
        "In addition, the data contains the following household characteristics: \n",
        "- AGE_REF: Age of the reference person (i.e. the person who answers the daily survey) \n",
        "- BLS_URBN: Whether the household lives in an urban or rural area, BLS_URBN=1 if urban, BLS_URBN=2 if rural\n",
        "- FAM_SIZE: Number of family members\n",
        "- FAM_TYPE: Composition of the household members\n",
        "    1. FAM_TYPE=1 for couple without children\n",
        "    2. FAM_TYPE=2 for couple with children\n",
        "    3. FAM_TYPE=3 for single-parent household\n",
        "    4. FAM_TYPE=4 for singles\n",
        "    5. FAM_TYPE=5 for other (e.g. a household where a grandad and grown-up grandson live together)\n",
        "- RACE_REF: Race of the reference person\n",
        "    1. RACE_REF=1 for white\n",
        "    2. RACE_REF=2 for black\n",
        "    3. RACE_REF=3 for native American\n",
        "    4. RACE_REF=4 for Asian\n",
        "    5. RACE_REF=5 for other\n",
        "    6. RACE_REF=6 for Multiracial\n",
        "- HISP_REF: Ethnicity of the reference person\n",
        "    1. HISP_REF=1 for Hispanic\n",
        "    2. HISP_REF=2 for non-Hispanic"
      ]
    },
    {
      "cell_type": "markdown",
      "metadata": {
        "id": "mGaLSVuvvIfj"
      },
      "source": [
        "### Setting up the Python Environment and Reading the Data\n",
        "\n",
        "To get you going, here are the packages you will need and the code to load the data into Python. "
      ]
    },
    {
      "cell_type": "code",
      "metadata": {
        "id": "7C43FVoivIfj"
      },
      "source": [
        "import numpy as np\n",
        "import pandas as pd\n",
        "import scipy.stats as stats\n",
        "import matplotlib.pyplot as plt\n",
        "import statsmodels as sm\n",
        "from statsmodels.stats.weightstats import ztest\n",
        "from statsmodels.stats.weightstats import ttest_ind\n",
        "import seaborn as sns\n",
        "sns.set()\n"
      ],
      "execution_count": 36,
      "outputs": []
    },
    {
      "cell_type": "markdown",
      "metadata": {
        "id": "OKydWhlnHDzy"
      },
      "source": [
        "Importing and cleaning data from people that do not spend any money on any category"
      ]
    },
    {
      "cell_type": "code",
      "metadata": {
        "id": "5CIHJIwrvIfk",
        "colab": {
          "base_uri": "https://localhost:8080/",
          "height": 224
        },
        "outputId": "65f6cf18-1683-440d-b223-c59887dbb706"
      },
      "source": [
        "url='https://raw.githubusercontent.com/jellevanham/GroupAssignment1_2dd80/main/SupermarketExpenditureData.csv'\n",
        "Data = pd.read_csv(url)\n",
        "Data=Data[Data.iloc[:,0:17].sum(axis=1)!=0]\n",
        "Data.head()"
      ],
      "execution_count": 37,
      "outputs": [
        {
          "output_type": "execute_result",
          "data": {
            "text/html": [
              "<div>\n",
              "<style scoped>\n",
              "    .dataframe tbody tr th:only-of-type {\n",
              "        vertical-align: middle;\n",
              "    }\n",
              "\n",
              "    .dataframe tbody tr th {\n",
              "        vertical-align: top;\n",
              "    }\n",
              "\n",
              "    .dataframe thead th {\n",
              "        text-align: right;\n",
              "    }\n",
              "</style>\n",
              "<table border=\"1\" class=\"dataframe\">\n",
              "  <thead>\n",
              "    <tr style=\"text-align: right;\">\n",
              "      <th></th>\n",
              "      <th>CEREAL</th>\n",
              "      <th>BAKEPROD</th>\n",
              "      <th>MEATS</th>\n",
              "      <th>DAIRY</th>\n",
              "      <th>FRSHFRUT</th>\n",
              "      <th>FRSHVEG</th>\n",
              "      <th>PROCFRUT</th>\n",
              "      <th>PROCVEG</th>\n",
              "      <th>SWEETS</th>\n",
              "      <th>NONALBEV</th>\n",
              "      <th>OILS</th>\n",
              "      <th>MISCFOOD</th>\n",
              "      <th>ALCBEV</th>\n",
              "      <th>SMOKSUPP</th>\n",
              "      <th>PET_FOOD</th>\n",
              "      <th>PERSPROD</th>\n",
              "      <th>DRUGSUPP</th>\n",
              "      <th>HOUSKEEP</th>\n",
              "      <th>AGE_REF</th>\n",
              "      <th>BLS_URBN</th>\n",
              "      <th>FAM_SIZE</th>\n",
              "      <th>FAM_TYPE</th>\n",
              "      <th>RACE_REF</th>\n",
              "      <th>HISP_REF</th>\n",
              "    </tr>\n",
              "  </thead>\n",
              "  <tbody>\n",
              "    <tr>\n",
              "      <th>0</th>\n",
              "      <td>23.24113</td>\n",
              "      <td>41.75852</td>\n",
              "      <td>57.08764</td>\n",
              "      <td>33.54323</td>\n",
              "      <td>19.22801</td>\n",
              "      <td>22.8118</td>\n",
              "      <td>7.58306</td>\n",
              "      <td>18.25788</td>\n",
              "      <td>10.32911</td>\n",
              "      <td>34.65994</td>\n",
              "      <td>15.1132</td>\n",
              "      <td>58.58641</td>\n",
              "      <td>0.0</td>\n",
              "      <td>0.0</td>\n",
              "      <td>0.00</td>\n",
              "      <td>0.00</td>\n",
              "      <td>0.00</td>\n",
              "      <td>0.00</td>\n",
              "      <td>26</td>\n",
              "      <td>1</td>\n",
              "      <td>5</td>\n",
              "      <td>5</td>\n",
              "      <td>4</td>\n",
              "      <td>2</td>\n",
              "    </tr>\n",
              "    <tr>\n",
              "      <th>2</th>\n",
              "      <td>4.78000</td>\n",
              "      <td>0.00000</td>\n",
              "      <td>0.00000</td>\n",
              "      <td>2.99000</td>\n",
              "      <td>0.00000</td>\n",
              "      <td>0.0000</td>\n",
              "      <td>0.00000</td>\n",
              "      <td>0.00000</td>\n",
              "      <td>0.00000</td>\n",
              "      <td>10.72000</td>\n",
              "      <td>0.0000</td>\n",
              "      <td>0.00000</td>\n",
              "      <td>0.0</td>\n",
              "      <td>0.0</td>\n",
              "      <td>0.00</td>\n",
              "      <td>0.00</td>\n",
              "      <td>0.00</td>\n",
              "      <td>0.00</td>\n",
              "      <td>54</td>\n",
              "      <td>1</td>\n",
              "      <td>2</td>\n",
              "      <td>1</td>\n",
              "      <td>1</td>\n",
              "      <td>1</td>\n",
              "    </tr>\n",
              "    <tr>\n",
              "      <th>3</th>\n",
              "      <td>6.98000</td>\n",
              "      <td>44.43000</td>\n",
              "      <td>40.25000</td>\n",
              "      <td>25.89000</td>\n",
              "      <td>12.34000</td>\n",
              "      <td>7.1500</td>\n",
              "      <td>6.96000</td>\n",
              "      <td>3.48000</td>\n",
              "      <td>2.22000</td>\n",
              "      <td>16.64000</td>\n",
              "      <td>1.9800</td>\n",
              "      <td>56.38000</td>\n",
              "      <td>0.0</td>\n",
              "      <td>0.0</td>\n",
              "      <td>10.97</td>\n",
              "      <td>0.00</td>\n",
              "      <td>4.98</td>\n",
              "      <td>3.09</td>\n",
              "      <td>54</td>\n",
              "      <td>1</td>\n",
              "      <td>2</td>\n",
              "      <td>1</td>\n",
              "      <td>1</td>\n",
              "      <td>1</td>\n",
              "    </tr>\n",
              "    <tr>\n",
              "      <th>4</th>\n",
              "      <td>4.50000</td>\n",
              "      <td>3.50000</td>\n",
              "      <td>26.00000</td>\n",
              "      <td>20.65000</td>\n",
              "      <td>2.25000</td>\n",
              "      <td>13.0000</td>\n",
              "      <td>4.00000</td>\n",
              "      <td>0.00000</td>\n",
              "      <td>2.00000</td>\n",
              "      <td>2.65000</td>\n",
              "      <td>5.4900</td>\n",
              "      <td>9.50000</td>\n",
              "      <td>0.0</td>\n",
              "      <td>0.0</td>\n",
              "      <td>0.00</td>\n",
              "      <td>0.00</td>\n",
              "      <td>0.00</td>\n",
              "      <td>0.00</td>\n",
              "      <td>71</td>\n",
              "      <td>1</td>\n",
              "      <td>2</td>\n",
              "      <td>1</td>\n",
              "      <td>1</td>\n",
              "      <td>2</td>\n",
              "    </tr>\n",
              "    <tr>\n",
              "      <th>5</th>\n",
              "      <td>2.90000</td>\n",
              "      <td>16.54000</td>\n",
              "      <td>37.06000</td>\n",
              "      <td>7.84000</td>\n",
              "      <td>11.52000</td>\n",
              "      <td>0.0000</td>\n",
              "      <td>0.00000</td>\n",
              "      <td>6.99000</td>\n",
              "      <td>0.00000</td>\n",
              "      <td>14.84000</td>\n",
              "      <td>5.6800</td>\n",
              "      <td>12.47000</td>\n",
              "      <td>0.0</td>\n",
              "      <td>0.0</td>\n",
              "      <td>0.00</td>\n",
              "      <td>47.19</td>\n",
              "      <td>0.00</td>\n",
              "      <td>97.04</td>\n",
              "      <td>71</td>\n",
              "      <td>1</td>\n",
              "      <td>2</td>\n",
              "      <td>1</td>\n",
              "      <td>1</td>\n",
              "      <td>2</td>\n",
              "    </tr>\n",
              "  </tbody>\n",
              "</table>\n",
              "</div>"
            ],
            "text/plain": [
              "     CEREAL  BAKEPROD     MEATS  ...  FAM_TYPE  RACE_REF  HISP_REF\n",
              "0  23.24113  41.75852  57.08764  ...         5         4         2\n",
              "2   4.78000   0.00000   0.00000  ...         1         1         1\n",
              "3   6.98000  44.43000  40.25000  ...         1         1         1\n",
              "4   4.50000   3.50000  26.00000  ...         1         1         2\n",
              "5   2.90000  16.54000  37.06000  ...         1         1         2\n",
              "\n",
              "[5 rows x 24 columns]"
            ]
          },
          "metadata": {
            "tags": []
          },
          "execution_count": 37
        }
      ]
    },
    {
      "cell_type": "markdown",
      "metadata": {
        "id": "LdtC4-Y0vIfk"
      },
      "source": [
        "## Assignment Part A: Descriptive Statistics \n",
        "\n",
        "With 18 expenditure categories and 6 household characteristics, there are many beautiful plots that you can make and many interesting summary statistics that you can compute. The goal of this assignment is not to make all the plots or summary statistics that you could come up with. Rather, you will present five plots and 10 numerical summary statistics that give you interesting insights related to the challenge that you have chosen. \n",
        "\n",
        "TIPS: \n",
        "- Make sure that you use a variety of concepts from Chapter 6. For example, don't only present one type of plot. \n",
        "- Clearly describe which (parts of the) data you use for which plots or summary statistics. \n",
        "- Motivate why you use the type of plot that you are using (histogram, boxplot, scatterplot, etc.) for your challenge.\n",
        "- Always label the axes of your plots in a meaningful way. \n",
        "- For each plot and summary statistic, include a written interpretation. What does the plot or number mean? \n",
        "\n",
        "End with an overall summary of what you have learned regarding the challenge you have chosen. \n",
        "\n"
      ]
    },
    {
      "cell_type": "markdown",
      "metadata": {
        "id": "v5hXL-thBMFI"
      },
      "source": [
        "**Scatterplot 1**: relation expenditure alcoholic beverages and smoking supplies"
      ]
    },
    {
      "cell_type": "code",
      "metadata": {
        "colab": {
          "base_uri": "https://localhost:8080/",
          "height": 285
        },
        "id": "TZjIe8TABNI9",
        "outputId": "671488d3-23cf-4d6c-b9f2-a3ba617d0ce7"
      },
      "source": [
        "_ = plt.scatter(x='ALCBEV',y='SMOKSUPP', data=Data)\n",
        "_ = plt.xlabel('Expenditure on alcoholic beverages')\n",
        "_ = plt.ylabel('Expenditure on smoking supplies')\n",
        "plt.show()"
      ],
      "execution_count": 38,
      "outputs": [
        {
          "output_type": "display_data",
          "data": {
            "image/png": "[encoded data removed]",
            "text/plain": [
              "<Figure size 432x288 with 1 Axes>"
            ]
          },
          "metadata": {
            "tags": []
          }
        }
      ]
    },
    {
      "cell_type": "markdown",
      "metadata": {
        "id": "ZyFs06IXRcqr"
      },
      "source": [
        "As can seen in scatterplot 1, the correlation is shown between the expenditure on smoking suppies and alcoholic beverages. Meant with this, is taking a look at those who spent both money on smoking and alcohol. The scatterplot has been used to observe and show relationships between two numeric variables. The position of each dot on the horizontal and vertical axis indicates values for an individual data point. The biggest group can be found on the left downside of the plotgraph. So, concludable is that the participants will just only spend money on smoking or alcohol. But, there is also an group within the participant who spent money on both. "
      ]
    },
    {
      "cell_type": "code",
      "metadata": {
        "colab": {
          "base_uri": "https://localhost:8080/"
        },
        "id": "58vSSeD8yfbY",
        "outputId": "a13bc07a-de64-45ae-82fb-960a397ba6a8"
      },
      "source": [
        "x = Data['ALCBEV']\n",
        "y = Data['SMOKSUPP']\n",
        "term1 = sum(y*(x-np.mean(x)))\n",
        "term2 = sum((y-np.mean(y))**2)\n",
        "term3 = sum((x-np.mean(x))**2)\n",
        "r = term1/np.sqrt((term2*term3))\n",
        "print(\"The correlation is\",r)\n",
        "\n",
        "Smokers = Data.SMOKSUPP >= 0\n",
        "Drinkers = Data.ALCBEV >= 0\n",
        "Drinkersandsmokers = Smokers | Drinkers\n",
        "Mean = np.mean(Data.SMOKSUPP[Drinkersandsmokers]+Data.ALCBEV[Drinkersandsmokers])\n",
        "\n",
        "print(\"The mean on alcohol and/or smoking expenditure is\", Mean)\n",
        "\n"
      ],
      "execution_count": 39,
      "outputs": [
        {
          "output_type": "stream",
          "text": [
            "The correlation is 0.06286921937211702\n",
            "The mean on alcohol and/or smoking expenditure is 13.589149317519777\n"
          ],
          "name": "stdout"
        }
      ]
    },
    {
      "cell_type": "markdown",
      "metadata": {
        "id": "X-P72SWS0P7V"
      },
      "source": [
        "For this scatterplot, two different numerical summaries have been chosen to calculate whether there is a relation between smoking and drinking. The ones used are the correlation coefficient and the mean. \n",
        "\n",
        "The correlation coefficient is 0.06 which says something about the relation between whether a participant will be smoking and drinking alcohol or not. Less than 0.20, the correlation is slight; almost negligible relationship. So, for scatterplot 1 this will be the case.\n",
        "\n",
        "The mean tells something about those partipants who will do both and what the average amount of spending is. The amount that has been calculated is €13.59. Which is a link with the amount of dots in the bottom left of the scatter plot. "
      ]
    },
    {
      "cell_type": "markdown",
      "metadata": {
        "id": "X3PViJTrIwJw"
      },
      "source": [
        "**Scatterplot 2**: relation expenditure on smoking and age of the participant"
      ]
    },
    {
      "cell_type": "code",
      "metadata": {
        "colab": {
          "base_uri": "https://localhost:8080/",
          "height": 285
        },
        "id": "OJwtUY1uI0sO",
        "outputId": "2a55313c-124b-48ec-8a10-4aa0b3667f25"
      },
      "source": [
        "_ = plt.scatter(x='SMOKSUPP',y='AGE_REF', data=Data)\n",
        "_ = plt.ylabel('Age of the participant')\n",
        "_ = plt.xlabel('Expenditure on smoking supplies')\n",
        "plt.show()"
      ],
      "execution_count": 40,
      "outputs": [
        {
          "output_type": "display_data",
          "data": {
            "image/png": "[encoded data removed]",
            "text/plain": [
              "<Figure size 432x288 with 1 Axes>"
            ]
          },
          "metadata": {
            "tags": []
          }
        }
      ]
    },
    {
      "cell_type": "markdown",
      "metadata": {
        "id": "LU1pOh-DWRh_"
      },
      "source": [
        "In scatterplot 2 is the relationship shown between the age of the participant and the expenditure on smoking supplies. As it is the same as scatterplot 1, where focussing on observing and showing relationships between two numeric variables is the main goal. As can be seen, is the division (correlation) evenly distributed over the ages. The amount of spending is for all categories the biggist between €0 - €50, with some outliers spending more money. "
      ]
    },
    {
      "cell_type": "code",
      "metadata": {
        "id": "jqvukv3KzZFW",
        "colab": {
          "base_uri": "https://localhost:8080/"
        },
        "outputId": "bb069487-dbb6-4772-d9f1-d05111217146"
      },
      "source": [
        "xbar_direct = np.mean(Data['SMOKSUPP'])\n",
        "print(\"The average expediture on smoking supplies based on the age of the participants\", xbar_direct )\n",
        "\n",
        "s = stats.tstd(Data['SMOKSUPP'])\n",
        "print(\"The sample standard deviation of expenditure on smoking supplies is\", s)\n"
      ],
      "execution_count": 41,
      "outputs": [
        {
          "output_type": "stream",
          "text": [
            "The average expediture on smoking supplies based on the age of the participants 3.2909300790678295\n",
            "The sample standard deviation of expenditure on smoking supplies is 15.435390421734558\n"
          ],
          "name": "stdout"
        }
      ]
    },
    {
      "cell_type": "markdown",
      "metadata": {
        "id": "zNfimB9TJAU0"
      },
      "source": [
        "For the two numerical summeries the mean and standard deviation have been calculated. As seen in the scatterplot the data has been used of the participants based on age and the amount of money they spent on smoking supplies, including those who spend €0,00. So, smoking expenditure >= €0,00. \n",
        "\n",
        "The calculation of the mean gives a value of €3.29. The reason for a lower mean is because all participants are included. As seen is the standard deviation much higher, namely €15.44. In contrary to the mean is this number very high due to the differences between non-smokers and smokers. It is concludable that the standard deviation is this high of the outlying numbers as seen on the right side of the scatterplot. \n",
        "\n",
        "For this scatterplot, it is a clearly visualization of the relationship between age and expenditure on smoking supplies. "
      ]
    },
    {
      "cell_type": "markdown",
      "metadata": {
        "id": "BFoqNg1qA6FJ"
      },
      "source": [
        "**Histogram 1**: Partipant's smoking and drinking expenditure categorized by range"
      ]
    },
    {
      "cell_type": "markdown",
      "metadata": {
        "id": "1AFjFwOzYJn2"
      },
      "source": [
        ""
      ]
    },
    {
      "cell_type": "code",
      "metadata": {
        "colab": {
          "base_uri": "https://localhost:8080/",
          "height": 285
        },
        "id": "XEyO7d3m_hlR",
        "outputId": "fc73cb25-e175-448c-cf01-5f2d173694dc"
      },
      "source": [
        "Smokersmorethan0 = Data.SMOKSUPP > 0\n",
        "Drinkersmorethan0 = Data.ALCBEV > 0\n",
        "Drinkersandsmokersmorethan0 = Smokersmorethan0 | Drinkersmorethan0\n",
        "Bin = len(Data.SMOKSUPP[Drinkersandsmokersmorethan0])\n",
        "Bin2= int(np.sqrt(Bin))\n",
        "_ = plt.hist(Data.SMOKSUPP[Drinkersandsmokersmorethan0]+Data.ALCBEV[Drinkersandsmokersmorethan0], bins=Bin2)\n",
        "_ = plt.xlabel('Expenditure on Smoking Supplies and/or Alcoholic Beverages')\n",
        "_ = plt.ylabel('Number of Particpants')\n",
        "plt.show()\n",
        "\n"
      ],
      "execution_count": 42,
      "outputs": [
        {
          "output_type": "display_data",
          "data": {
            "image/png": "[encoded data removed]",
            "text/plain": [
              "<Figure size 432x288 with 1 Axes>"
            ]
          },
          "metadata": {
            "tags": []
          }
        }
      ]
    },
    {
      "cell_type": "markdown",
      "metadata": {
        "id": "IoHjzu1G6MjT"
      },
      "source": [
        "For the histogram the information of the data has been used, only including those participants who have more than 0 expenditure on smoking supplies and/or alcoholic beverages. When including the participants who have no expenditure on smoking and alcohol will give an unreliable outcome, because the histogram shows the cohesion of a target (number) group and the expenditure. The histogram has been chosen to summarize the distribution of a univariate data set and gives a visual interpretation. Furthermore, it is very handful to use a histogram to compare the data results with specific limits (expenditures). \n",
        "As seen in the histogram, the highest percentage of the participants can be visualized between €0 - €50, as going any further the number of participants decrease when the expenditure increases. \n"
      ]
    },
    {
      "cell_type": "code",
      "metadata": {
        "id": "H1oi-RUfe9xu",
        "colab": {
          "base_uri": "https://localhost:8080/"
        },
        "outputId": "3e1e7e0c-b171-409b-ae48-3a75a64ea069"
      },
      "source": [
        "Smokersmorethan0 = Data.SMOKSUPP > 0\n",
        "Drinkersmorethan0 = Data.ALCBEV > 0\n",
        "Drinkersandsmokersmorethan0 = Smokersmorethan0 | Drinkersmorethan0\n",
        "Mean = np.mean(Data.SMOKSUPP[Drinkersandsmokersmorethan0]+Data.ALCBEV[Drinkersandsmokersmorethan0])\n",
        "\n",
        "print(\"The mean on alcohol and smoking expenditure is\", Mean)\n",
        "\n",
        "Mode = stats.mode(Data.SMOKSUPP[Drinkersandsmokersmorethan0]+Data.ALCBEV[Drinkersandsmokersmorethan0])\n",
        "\n",
        "print(\"The mode on alcohol and smoking expenditure is\", int(Mode[0]),'which is counted', int(Mode[1]), 'times')\n"
      ],
      "execution_count": 43,
      "outputs": [
        {
          "output_type": "stream",
          "text": [
            "The mean on alcohol and smoking expenditure is 38.598966678487024\n",
            "The mode on alcohol and smoking expenditure is 20 which is counted 9 times\n"
          ],
          "name": "stdout"
        }
      ]
    },
    {
      "cell_type": "markdown",
      "metadata": {
        "id": "Erucy9G4_CHy"
      },
      "source": [
        "To be concluded from the two calculated numerical summaries, the histogram shown above has a mean of 38,6. This means that the average amount of spending money on alcohol and smoking is €38,60 among the participants. Taking a closer look at the other numerical summary, the calculated mode. The outcome of the calculation is €20,00 which has been counted 9 times. \n",
        "\n",
        "In contrary to the mean is this number lower. So, mean > mode. As taking a closer look to the histogram it is concludadble that it an asymmetric distribution. It is skewed to the right. A right-skewed distribution has a long right tail. Right-skewed distributions are also called positive-skew distributions. That’s because there is a long tail in the positive direction on the number line."
      ]
    },
    {
      "cell_type": "markdown",
      "metadata": {
        "id": "CsQKoEKTA6MR"
      },
      "source": [
        "**Boxplot 1**: Difference smoking expenditure in rural and urban areas"
      ]
    },
    {
      "cell_type": "code",
      "metadata": {
        "id": "tGsJKc6UA0dO",
        "colab": {
          "base_uri": "https://localhost:8080/",
          "height": 285
        },
        "outputId": "9b2e7a5f-3529-4cf6-8fed-eca2fe46981b"
      },
      "source": [
        "Smokersmorethan0 = Data.SMOKSUPP > 0\n",
        "_ = sns.boxplot(x='BLS_URBN',y=Data.SMOKSUPP[Smokersmorethan0], data=Data)\n",
        "_ = plt.xlabel('BLS_URBN (1=URBAN, 2=RURAL)')\n",
        "_ = plt.ylabel('Expenditure on Smoking Supplies')\n",
        "plt.show()"
      ],
      "execution_count": 44,
      "outputs": [
        {
          "output_type": "display_data",
          "data": {
            "image/png": "[encoded data removed]",
            "text/plain": [
              "<Figure size 432x288 with 1 Axes>"
            ]
          },
          "metadata": {
            "tags": []
          }
        }
      ]
    },
    {
      "cell_type": "markdown",
      "metadata": {
        "id": "TNAJxFn1CSL_"
      },
      "source": [
        "For this plot it has been decided to only include participants that spend more than 0 on smoking supplies, as no useful comparison between smoking expenditure between rural and urban areas would be given if non-smokers were included. There has been chosen specifically for a boxplot as a visualization due to the fact that these type of charts are extremely insightful and relevent in comparing the distribution between two different categories.\n",
        "\n",
        "As can be see in the boxplot there are actually significant differences regarding smoking expenditure amongst smokers between the two different geographical categories.\n",
        "\n",
        "Whilst the start and end location of the so-called 'whiskers' of the boxplot seem different, these actually vary in length due to the different location of the box in both categories. Hence, for this specific visualiztion it is useful to compare the different boxes via the interquartile range (IQR). This has been done below:\n"
      ]
    },
    {
      "cell_type": "code",
      "metadata": {
        "id": "0OYktBfCRFv4",
        "colab": {
          "base_uri": "https://localhost:8080/"
        },
        "outputId": "cefaed60-fd60-4d6d-ea9f-a4937e7aa043"
      },
      "source": [
        "Smokersmorethan0 = Data.SMOKSUPP > 0\n",
        "urbancondition = Data.BLS_URBN == 1\n",
        "smokersandurban = urbancondition & Smokersmorethan0\n",
        "Q1urban = np.percentile(Data.SMOKSUPP[smokersandurban],25)\n",
        "Q3urban = np.percentile(Data.SMOKSUPP[smokersandurban],75)\n",
        "IQRurban = Q3urban-Q1urban\n",
        "print(\"The interquartile range (IQR) in the urban area is\", IQRurban)\n",
        "\n",
        "Smokersmorethan0 = Data.SMOKSUPP > 0\n",
        "ruralcondition = Data.BLS_URBN == 2\n",
        "smokersandrural = ruralcondition & Smokersmorethan0\n",
        "Q1rural = np.percentile(Data.SMOKSUPP[smokersandrural],25)\n",
        "Q3rural = np.percentile(Data.SMOKSUPP[smokersandrural],75)\n",
        "IQRrural = Q3rural-Q1rural\n",
        "print(\"The interquartile range (IQR) in the rural area is\", IQRrural)"
      ],
      "execution_count": 45,
      "outputs": [
        {
          "output_type": "stream",
          "text": [
            "The interquartile range (IQR) in the urban area is 32.578720000000004\n",
            "The interquartile range (IQR) in the rural area is 31.134999999999998\n"
          ],
          "name": "stdout"
        }
      ]
    },
    {
      "cell_type": "markdown",
      "metadata": {
        "id": "ugGKfSCnXoFV"
      },
      "source": [
        "As can be concluded from these two nummerical summaries, the box in the case of the urban area is slightly larger in comparison to the one in the rural are. Hence, an interpertation from this can be that there is greater variability in the terms of expenditure on smoking supplies in the urban area.\n",
        "\n",
        "Hence, this means that if one would ask a participant (given the participant is a smoker) in the urban area to clarify their spending on smoking supplies, it is more likely that this answer deviates from the expectations. "
      ]
    },
    {
      "cell_type": "markdown",
      "metadata": {
        "id": "T2RxYJeROFGK"
      },
      "source": [
        "**Boxplot 2:** difference alcohol expenditure in rural and urban areas"
      ]
    },
    {
      "cell_type": "code",
      "metadata": {
        "id": "MgT832jVOGeU",
        "colab": {
          "base_uri": "https://localhost:8080/",
          "height": 285
        },
        "outputId": "26c1ccc2-3d32-4256-bae0-93e0f8ac1dc0"
      },
      "source": [
        "Drinkersmorethan0 = Data.ALCBEV > 0\n",
        "_ = sns.boxplot(x='BLS_URBN',y=Data.ALCBEV[Drinkersmorethan0], data=Data)\n",
        "_ = plt.xlabel('BLS_URBN (1=URBAN, 2=RURAL)')\n",
        "_ = plt.ylabel('Expenditure on Alcoholic Beverages')\n",
        "plt.show()"
      ],
      "execution_count": 46,
      "outputs": [
        {
          "output_type": "display_data",
          "data": {
            "image/png": "[encoded data removed]",
            "text/plain": [
              "<Figure size 432x288 with 1 Axes>"
            ]
          },
          "metadata": {
            "tags": []
          }
        }
      ]
    },
    {
      "cell_type": "markdown",
      "metadata": {
        "id": "81X4N39iEH8p"
      },
      "source": [
        "This boxplot takes a similar approach to the previous one, however instead of comparing smoking expenditure, the focus here lies on expenditure regarding alcholic beverages. The boxplot compares the expenditure on alcholic beverages between urban and rural areas. As mentioned, this visulization focuses on the distribution of alchol expenditures in two different areas, for this reason a boxplot is chosen. Boxplots are very suitable in displaying differences between two different cateogories.\n",
        "\n",
        "Simlarly to the previous boxplot, the participants that do not spend anything on alcholic beverages have been left out of the visuzalization, as the purpose of the visuzalization is to compare drinking expenditure between the different demorgraphical areas amongst drinkers only.\n",
        "\n",
        "In the this boxplot the differences between the two different areas are even more evident. The boxplots suggest greater variabillity in the case of the urban areas. This is due to the fact that both the whiskers and actual box are significantly smaller for the rural area. In addition, the urban area has substantially more outliers.\n",
        "\n",
        "Even though the pictures suggest greater variability in the case of the urban area, the placement of the boxes seems relatively similar. Hence numerical summaries will be used to compare the median of the two different areas. \n",
        "\n"
      ]
    },
    {
      "cell_type": "code",
      "metadata": {
        "id": "nA4qTFW0clHt",
        "colab": {
          "base_uri": "https://localhost:8080/"
        },
        "outputId": "f2c8f54a-72e0-46c6-a9c8-c7bdce0c565b"
      },
      "source": [
        "drinkersmorethan0 = Data.ALCBEV > 0\n",
        "urbancondition = Data.BLS_URBN == 1\n",
        "drinkersandurban = urbancondition & drinkersmorethan0\n",
        "MedianUrban = np.median(Data.ALCBEV[drinkersandurban])\n",
        "\n",
        "print(\"The median in the urban area is\", MedianUrban)\n",
        "\n",
        "drinkersmorethan0 = Data.ALCBEV > 0\n",
        "ruralcondition = Data.BLS_URBN == 2\n",
        "drinkersandrural = ruralcondition & drinkersmorethan0\n",
        "MedianRural = np.median(Data.ALCBEV[drinkersandrural])\n",
        "\n",
        "print(\"The median in the rural area is\", MedianRural)"
      ],
      "execution_count": 47,
      "outputs": [
        {
          "output_type": "stream",
          "text": [
            "The median in the urban area is 21.74\n",
            "The median in the rural area is 21.56972\n"
          ],
          "name": "stdout"
        }
      ]
    },
    {
      "cell_type": "markdown",
      "metadata": {
        "id": "ZhfC2wc9etyc"
      },
      "source": [
        "The two given numerical summaries confirm the picture provided by the boxplot, which is that the median is extremely similar in both cases. Hence, the interesting conclusion can be made that while the median is similar in both cases. The data is distributed with greater variability in the urban area in comparison to the data in the rural area.\n",
        "\n",
        "In conclusion, this means if one would ask participants (who spend money on alcohol) from rural and urban areas what their expenditure is on smoking supplies, the answer is likely to be similar. However, in the case of the participants from the urban area, it is more likely that the answer deviates significantly more from the expecations. "
      ]
    },
    {
      "cell_type": "markdown",
      "metadata": {
        "id": "Xc3_7yP9vIfk"
      },
      "source": [
        "## Part B: Statistical Inference for Two Samples\n",
        "\n",
        "Now that you have provided a strong descriptive analysis of the data, it's time do statistical tests and calculate confidence intervals. Again, we will not tell you *which* tests to do. Instead, you will present five tests from Chapter 10. For each test, report the following: \n",
        "- the question you are answering with your test in relation to the challenge that you have chosen\n",
        "- the null-hypothesis\n",
        "- the means of the two samples \n",
        "- the test-statistics and the p-value of your test\n",
        "- a written interpretation of the test results. \n",
        "\n",
        "TIPS: \n",
        "- Make sure that you use a variety of concepts from Chapter 10. For example, don't only present tests on the difference of two population proportions. \n",
        "- Clearly describe which (parts of the) data you use for which analysis. \n",
        "- Motivate why you use the analysis that you are using for your challenge.\n",
        "- For each analysis, include a written interpretation. What does the result mean? \n",
        "\n",
        "End with an overall summary of what you have learned regarding the challenge you have chosen. "
      ]
    },
    {
      "cell_type": "markdown",
      "metadata": {
        "id": "iR4ef401FfVQ"
      },
      "source": [
        "### Two-sided test on expenditures of drinkers in urban and rural areas\n",
        "\n",
        "As has been concluded in one of the previous histograms, it was seen that the averages regarding alcohol expenditures amongst drinkers was similar in both the rural and urban areas. Hence, a two sided test should help confirm this. \n",
        "\n",
        "Therefore, the question to be asked is: if at the α=0.5 level of significance, is there enought evidence to assume that there is a difference in alcohol expenditure amongst drinkers across rural and urban areas?\n",
        "\n",
        "Where:\n",
        "- Sample 1: expenditure amongst drinkers in urban areas\n",
        "- Sample 2: expenditure amongst drinkers in rural areas\n",
        "\n",
        "H0: μ1 - μ2 = 0 \n",
        "\n",
        "H1: μ1 - μ2 ≠ 0 \n",
        "\n",
        "The null hypotheses will be rejected in the case of: \n",
        "t(0)<-t(α/2) or if t(0)>t(α/2)\n",
        "\n",
        "Where -t(α/2) = -1.96 and t(α/2) = 1.96"
      ]
    },
    {
      "cell_type": "code",
      "metadata": {
        "colab": {
          "base_uri": "https://localhost:8080/"
        },
        "id": "SEaLdNEPGRRK",
        "outputId": "5ae2442b-4230-4606-a249-67fc0224a27f"
      },
      "source": [
        "drinkersmorethan0 = Data.ALCBEV > 0\n",
        "sample_urban = Data.ALCBEV[drinkersmorethan0][Data['BLS_URBN']==1]\n",
        "sample_rural = Data.ALCBEV[drinkersmorethan0][Data['BLS_URBN']==2]\n",
        "print(\"The sample mean in the urban area is\",round(np.mean(sample_urban),4))\n",
        "print(\"The sample mean in the rural area is\",round(np.mean(sample_rural),4))\n",
        "print(\"The difference in the sample means is\",round(np.mean(sample_urban)-np.mean(sample_rural),4))\n",
        "ttest = ttest_ind(sample_urban, sample_rural, alternative='two-sided', usevar='pooled')\n",
        "teststatistic = ttest[0]\n",
        "pvalue = ttest[1]\n",
        "df = ttest[2]\n",
        "print('The test statistics is',round(teststatistic,4),\n",
        "      'and p-value:',round(pvalue,5),\n",
        "      'and',df,'degrees of freedom')"
      ],
      "execution_count": 48,
      "outputs": [
        {
          "output_type": "stream",
          "text": [
            "The sample mean in the urban area is 36.0064\n",
            "The sample mean in the rural area is 27.2179\n",
            "The difference in the sample means is 8.7884\n",
            "The test statistics is 1.4853 and p-value: 0.13793 and 697.0 degrees of freedom\n"
          ],
          "name": "stdout"
        }
      ]
    },
    {
      "cell_type": "markdown",
      "metadata": {
        "id": "-XREb48PITBQ"
      },
      "source": [
        "As -1.96 < 1.4853 < 1.96 holds, it can be concluded that we will fail to reject the null hypotheses. Meaning it can be said that there is not sufficient evidence to support that there is a difference between the average expenditure of alcoholic beverages across rural and urban areas amongst drinkers."
      ]
    },
    {
      "cell_type": "markdown",
      "metadata": {
        "id": "MiNIRx9liPdJ"
      },
      "source": [
        "### Two-sided test on alcohol and prescription drugs\n",
        "\n",
        "The next test is on the buying of alcohol and the relation of prescription drugs.\n",
        "\n",
        "---\n",
        "\n",
        "The question is, is there a difference in the number of prescription drugs between the population that spends money on alcoholic beverages and the poeple that do not.\n",
        "\n",
        "---\n",
        "\n",
        "Therefore:\n",
        "\n",
        " h_0: μ1 - μ2 = 0\n",
        "\n",
        " h_1: μ1 - μ2 ≠ 0 \n",
        "\n",
        " ---\n",
        "\n",
        "The samples we use for this comparison are:\n",
        "\n",
        "Sample 1: People that spend money on alcoholic beverages\n",
        "\n",
        "Sample 2: People that do not spend money on alcoholic beverages\n",
        "\n",
        "---\n",
        "\n",
        "The null hypotheses will be rejected in the case if the p-value is below the significance level, which is 0.05 or alpha\n",
        "\n",
        "---\n",
        "\n",
        "Because this concern as two-tailed t-test the value of the t statistic should be above 1.96 or below -1.96, then the null hypothesis should be rejected."
      ]
    },
    {
      "cell_type": "code",
      "metadata": {
        "colab": {
          "base_uri": "https://localhost:8080/"
        },
        "id": "R1RS1GZKgdr8",
        "outputId": "b4261d9e-dacc-4bbc-d0d3-7778c87e4a08"
      },
      "source": [
        "sample_alc=Data.DRUGSUPP[Data.ALCBEV>0]\n",
        "sample_nonalc=Data.DRUGSUPP[Data.ALCBEV==0]\n",
        "print(\"The sample mean of money spent on prescription drugs among people that spend money on alcoholic beverages is\",round(np.mean(sample_alc),4))\n",
        "print(\"The sample mean of money spent on prescription drugs among people that do not spend money on alcoholic beverages is\",round(np.mean(sample_nonalc),4))\n",
        "print(\"The difference in the sample means is\",round(np.mean(sample_alc)-np.mean(sample_nonalc),4))\n",
        "ttest = ttest_ind(sample_alc, sample_nonalc)\n",
        "teststatistic = ttest[0]\n",
        "pvalue = ttest[1]\n",
        "df = ttest[2]\n",
        "print('The test statistics is',round(teststatistic,4),\n",
        "      'and p-value:',round(pvalue,5),\n",
        "      'and',df,'degrees of freedom')"
      ],
      "execution_count": 49,
      "outputs": [
        {
          "output_type": "stream",
          "text": [
            "The sample mean of money spent on prescription drugs among people that spend money on alcoholic beverages is 12.7506\n",
            "The sample mean of money spent on prescription drugs among people that do not spend money on alcoholic beverages is 8.4579\n",
            "The difference in the sample means is 4.2927\n",
            "The test statistics is 2.6184 and p-value: 0.00889 and 2401.0 degrees of freedom\n"
          ],
          "name": "stdout"
        }
      ]
    },
    {
      "cell_type": "markdown",
      "metadata": {
        "id": "CuThUm_cmdCh"
      },
      "source": [
        "Based on the p-value which is lower than 0.05, Therefore there is enough evidence to reject the null hypothesis and say that the population of people that spend money on alcoholic beverages and the people that do not spend money on alcoholic beverages are not equal in spending money on prescription drugs.\n",
        "\n"
      ]
    },
    {
      "cell_type": "markdown",
      "metadata": {
        "id": "-CryVTatCqhn"
      },
      "source": [
        "### One-sided test on smoking supplies and prescription drugs\n",
        "\n",
        "The next test is on the buying of tobacco products and the relation of prescription druggs.\n",
        "The question is, is there a difference in the number of prescription druggs between the population that spends money on tobacco products and the poeple that do not.\n",
        "\n",
        "---\n",
        "\n",
        "The samples we use for this comparison are:\n",
        "\n",
        "Sample 1: Poeple that spend money on tobacco products\n",
        "\n",
        "Sample 2: People that do not spend money on tobacco products\n",
        "\n",
        "---\n",
        "\n",
        "We are not only interested if these groups differ from eachother, but also if the expendatures of sample one are higher compared to sample two. \n",
        "\n",
        "---\n",
        "\n",
        "This creates the following h_0 and h_1:\n",
        "\n",
        "h_0: μ1 - μ2 = 0 (the means of the two samples are the same)\n",
        "\n",
        "h_1: μ1 - μ2 > 0 (the mean of sample 1 is higher thant the mean of sample two)\n",
        "\n",
        "---\n",
        "\n",
        "The signifcance level of the test will be: α=0.05\n",
        "Because, only the positive part is important, the use of a one-tailed t-test is required.\n",
        "\n",
        "---\n",
        "\n",
        "Because this concern as one-tailed t-test the value of the t statistic should be above 1.96, then the null hypothesis should be rejected.\n"
      ]
    },
    {
      "cell_type": "code",
      "metadata": {
        "colab": {
          "base_uri": "https://localhost:8080/"
        },
        "id": "1NzbY6zmCqNE",
        "outputId": "b47ab1ae-bf9e-4d21-d35e-54620fb8cf0b"
      },
      "source": [
        "sample_tob=Data.DRUGSUPP[Data.SMOKSUPP>0]\n",
        "sample_nontob=Data.DRUGSUPP[Data.SMOKSUPP==0]\n",
        "print(\"The sample mean of money spent on prescription drugs among people that spend money on tobacco products is\",round(np.mean(sample_tob),4))\n",
        "print(\"The sample mean of money spent on prescription drugs among people that do not spend money on tobacco products is\",round(np.mean(sample_nontob),4))\n",
        "print(\"The difference in the sample means is\",round(np.mean(sample_tob)-np.mean(sample_nontob),4))\n",
        "ttest = ttest_ind(sample_tob, sample_nontob)\n",
        "teststatistic = ttest[0]\n",
        "pvalue = ttest[1]\n",
        "df = ttest[2]\n",
        "print('The test statistics is',round(teststatistic,4),\n",
        "      'and p-value:',round(pvalue,5),\n",
        "      'and',df,'degrees of freedom')"
      ],
      "execution_count": 50,
      "outputs": [
        {
          "output_type": "stream",
          "text": [
            "The sample mean of money spent on prescription drugs among people that spend money on tobacco products is 6.4823\n",
            "The sample mean of money spent on prescription drugs among people that do not spend money on tobacco products is 10.0495\n",
            "The difference in the sample means is -3.5672\n",
            "The test statistics is -1.4108 and p-value: 0.15844 and 2401.0 degrees of freedom\n"
          ],
          "name": "stdout"
        }
      ]
    },
    {
      "cell_type": "markdown",
      "metadata": {
        "id": "T-flpIW0JO-V"
      },
      "source": [
        "Based on the result of the one-tailed t-test, there is not enough evidence to reject the hypothesis that people that do spend moeny on Tobacco products spend and equal amount on prescription drugs. Therefore this hypothesis stands. One thing to take away from this is that is weird that the mean amount spent on prescription drugs for people that spend money on tobacco products is lower compared to the people that do not spend money on tobacco products."
      ]
    },
    {
      "cell_type": "markdown",
      "metadata": {
        "id": "ZCi0om_Zps36"
      },
      "source": [
        "### Two-sided test on variance of spent amound on prescription drugs by buyers of smoking supplies and those who do not.\n",
        "\n",
        "One might be interested in the variance of amount spend on prescription drugs by people that do buy smoking supplies and the people that do not.\n",
        "\n",
        "---\n",
        "\n",
        "For this we will perform an F-test to determine if there are significant differences in the sample variances. This is tested using a H_0 and H_1.\n",
        "\n",
        "---\n",
        "\n",
        "The samples we use for this comparison are:\n",
        "\n",
        "Sample 1: Poeple that spend money on tobacco products\n",
        "\n",
        "Sample 2: People that do not spend money on tobacco products\n",
        "\n",
        "---\n",
        "\n",
        "The hypotheses that are tested are listed below:\n",
        "\n",
        "H_0: sigma^2_1-sigma^2_2 = 0\n",
        "\n",
        "H_1: sigma^2_1-sigma^2_2 ≠ 0 \n",
        "\n",
        "Note that we are interested in both a smaller and larger variance in the amount spent on prescription drugs by the both samples.\n",
        "\n",
        "---\n",
        "\n",
        "For this test we are using a confidence interval of 95%. This results in a=0.05. We will reject the null hypothesis if the p-value is below 0.05. In other words the f-statistic (f_0) is f_0 < f_0.025,u,v or f_0 > f_0.975,u,v where u and v are the degrees of freedom from sample 1 and sampole 2 respectively."
      ]
    },
    {
      "cell_type": "code",
      "metadata": {
        "id": "do9JvqY6vIfk",
        "colab": {
          "base_uri": "https://localhost:8080/"
        },
        "outputId": "a8e61b7f-02eb-4543-812b-fb4e5eeca009"
      },
      "source": [
        "sample_tob=Data.DRUGSUPP[Data.SMOKSUPP>0]\n",
        "sample_nontob=Data.DRUGSUPP[Data.SMOKSUPP==0]\n",
        "print(\"The sample variance of money spent on prescription drugs among people that spend money on tobacco products is\",round(np.var(sample_tob),4))\n",
        "print(\"The sample variance of money spent on prescription drugs among people that do not spend money on tobacco products is\",round(np.var(sample_nontob),4))\n",
        "print(\"The difference in the sample variance is\",round(np.var(sample_tob)-np.var(sample_nontob),4))\n",
        "dof1=len(sample_tob)-1\n",
        "dof2=len(sample_nontob)-1\n",
        "print('The degrees of freedom for sample 1 are ',dof1)\n",
        "print('The degrees of freedom for sample 2 are ',dof2)\n",
        "fstatistic=round((np.var(sample_tob)/dof1)/(np.var(sample_nontob)/dof2),2)\n",
        "print('The f-statistic is',fstatistic)\n",
        "fupper=stats.f.isf(0.025,dof1,dof2)\n",
        "flower=stats.f.isf(0.975,dof1,dof2)\n",
        "print('To reject the null hypothesis',fstatistic,'<',flower,'or', fstatistic,'>',fupper)\n",
        "if fstatistic>fupper or fstatistic<flower:\n",
        "  print('We can reject the null hypothesis because above statement is TRUE')\n",
        "else:\n",
        "  print('We cannot reject the null hypothesis because the above stamenet is FALSE')"
      ],
      "execution_count": 51,
      "outputs": [
        {
          "output_type": "stream",
          "text": [
            "The sample variance of money spent on prescription drugs among people that spend money on tobacco products is 535.6277\n",
            "The sample variance of money spent on prescription drugs among people that do not spend money on tobacco products is 1418.7266\n",
            "The difference in the sample variance is -883.0989\n",
            "The degrees of freedom for sample 1 are  230\n",
            "The degrees of freedom for sample 2 are  2171\n",
            "The f-statistic is 3.56\n",
            "To reject the null hypothesis 3.56 < 0.818583171767293 or 3.56 > 1.2032273407876108\n",
            "We can reject the null hypothesis because above statement is TRUE\n"
          ],
          "name": "stdout"
        }
      ]
    },
    {
      "cell_type": "markdown",
      "metadata": {
        "id": "SYdvcaXVw8zk"
      },
      "source": [
        "Because we can reject the null hypothesis, there is enough evidence to support that the variance in spending amount on prescription drugs is different between sample one and sample 2. Looking at the data from the test cell, it is easy to see that the variance of an estimator for sample 1 is higher than it would be for sample 2. This means that typically the values of the amount spend on prescriptions drugs and spend money on smoking supplies are less centered around the expected value than the values from sample two. To find the reason behind this, extra research is required."
      ]
    },
    {
      "cell_type": "markdown",
      "metadata": {
        "id": "WPkr5TDWzF4o"
      },
      "source": [
        "### Two-sided test on population proportion money spent on smoking supplies by people that buy alcohol and the ones that do not\n",
        "\n",
        "For the last test, we want to know if people that spend money on alcoholic beverages will be more likely to spend money on smoking supplies or not. For thos proportion test, we assume spending money on smoking supplies as an binomial: either 1 or 0. Because the degrees of freedom for the distribution are unknown beforehand, we estimate using a t-distribution instead of a normal distribution.\n",
        "\n",
        "---\n",
        "\n",
        "For testing we define the samples as below:\n",
        "\n",
        "\n",
        "*   Sample 1: People that spend money on alcoholic beverages\n",
        "*   Sample 2: People that do not spend money on alcoholic beverages\n",
        "\n",
        "---\n",
        "\n",
        "We assume that people that spend money on alcoholic beverages and the people that do not spend money on alcoholic beverages are equally likely to spend money on smokiung supplies.\n",
        "\n",
        "therefore:\n",
        "\n",
        "H_0: mu_1 - mu_2 = 0\n",
        "\n",
        "We are interested in both sides, therefore:\n",
        "\n",
        "H_1: mu_1 - mu_2 ≠ 0\n",
        "\n",
        "---\n",
        "\n",
        "We want to be certain, so a confidence level of 95% is used, therefore alpha = 0.05. The null hypothesis is rejected if p < 0.05, in other words: the t-statistic is below -1.96 or above 1.96.\n",
        "\n"
      ]
    },
    {
      "cell_type": "code",
      "metadata": {
        "id": "OuKO06qLR9-6",
        "colab": {
          "base_uri": "https://localhost:8080/"
        },
        "outputId": "0b5f0034-8620-466a-912d-6aadc2d20fb5"
      },
      "source": [
        "sample1=np.array(Data.SMOKSUPP[Data.ALCBEV>0].values.tolist())\n",
        "sample2=np.array(Data.SMOKSUPP[Data.ALCBEV==0].values.tolist())\n",
        "\n",
        "sample1n=np.where(sample1 > 0, 1, sample1).tolist()\n",
        "sample2n=np.where(sample2 > 0, 1, sample2).tolist()\n",
        "\n",
        "print(\"The sample mean for sample 1 is\",round(np.mean(sample1n),4))\n",
        "print(\"The sample mean for sample 2 is\",round(np.mean(sample2n),4))\n",
        "print(\"The difference in the sample means is\",round(np.mean(sample1n)-np.mean(sample2n),4))\n",
        "ttest = ttest_ind(sample1n, sample2n)\n",
        "teststatistic = ttest[0]\n",
        "pvalue = ttest[1]\n",
        "df = ttest[2]\n",
        "print('The test statistics is',round(teststatistic,4),\n",
        "      'and p-value:',round(pvalue,5),\n",
        "      'and',df,'degrees of freedom')\n",
        "\n",
        "if teststatistic>1.96 or teststatistic<-1.96:\n",
        "  print('The null hypothesis is rejected becasue',teststatistic,'> 1.96 or <-1.96')\n",
        "else:\n",
        "    print('The null hypothesis cannot be rejected becasue',teststatistic,'< 1.96 and/or >-1.96')\n",
        "\n"
      ],
      "execution_count": 52,
      "outputs": [
        {
          "output_type": "stream",
          "text": [
            "The sample mean for sample 1 is 0.1202\n",
            "The sample mean for sample 2 is 0.0863\n",
            "The difference in the sample means is 0.0339\n",
            "The test statistics is 2.5632 and p-value: 0.01043 and 2401.0 degrees of freedom\n",
            "The null hypothesis is rejected becasue 2.5631778786559725 > 1.96 or <-1.96\n"
          ],
          "name": "stdout"
        }
      ]
    },
    {
      "cell_type": "markdown",
      "metadata": {
        "id": "_CKxFQf85sPy"
      },
      "source": [
        "Based on the result of the t-test, the null hypothesis is rejected, which means that people that spent money on alcoholic beverages and people that do not spend money on alcoholic beverages are not equally likely to spend money on smoking supplies.\n",
        "\n",
        "\n"
      ]
    }
  ]
}